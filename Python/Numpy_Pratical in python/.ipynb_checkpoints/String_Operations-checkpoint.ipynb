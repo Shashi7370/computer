{
 "cells": [
  {
   "cell_type": "markdown",
   "id": "c9bf4528",
   "metadata": {},
   "source": [
    "# String Operations, comparison and information"
   ]
  },
  {
   "cell_type": "code",
   "execution_count": 1,
   "id": "d3c24b60",
   "metadata": {},
   "outputs": [],
   "source": [
    "import numpy as np"
   ]
  },
  {
   "cell_type": "code",
   "execution_count": 2,
   "id": "6593150a",
   "metadata": {},
   "outputs": [
    {
     "name": "stdout",
     "output_type": "stream",
     "text": [
      "Shashikant Kumar\n",
      " Learning Python NumPy\n"
     ]
    }
   ],
   "source": [
    "ch=\"Shashikant Kumar\"\n",
    "st=\" Learning Python NumPy\"\n",
    "print(ch)\n",
    "print(st)"
   ]
  },
  {
   "cell_type": "code",
   "execution_count": 3,
   "id": "e462d313",
   "metadata": {},
   "outputs": [
    {
     "data": {
      "text/plain": [
       "array('Shashikant Kumar Learning Python NumPy', dtype='<U38')"
      ]
     },
     "execution_count": 3,
     "metadata": {},
     "output_type": "execute_result"
    }
   ],
   "source": [
    "np.char.add(ch, st)"
   ]
  },
  {
   "cell_type": "code",
   "execution_count": 4,
   "id": "80bad0c6",
   "metadata": {},
   "outputs": [
    {
     "data": {
      "text/plain": [
       "array('SHASHIKANT KUMAR', dtype='<U16')"
      ]
     },
     "execution_count": 4,
     "metadata": {},
     "output_type": "execute_result"
    }
   ],
   "source": [
    "np.char.upper(ch)"
   ]
  },
  {
   "cell_type": "code",
   "execution_count": 5,
   "id": "09a00b9e",
   "metadata": {},
   "outputs": [
    {
     "data": {
      "text/plain": [
       "array(' learning python numpy', dtype='<U22')"
      ]
     },
     "execution_count": 5,
     "metadata": {},
     "output_type": "execute_result"
    }
   ],
   "source": [
    "np.char.lower(st)"
   ]
  },
  {
   "cell_type": "code",
   "execution_count": 6,
   "id": "b8dedb6d",
   "metadata": {},
   "outputs": [
    {
     "data": {
      "text/plain": [
       "array('               Learning Python NumPy              ', dtype='<U50')"
      ]
     },
     "execution_count": 6,
     "metadata": {},
     "output_type": "execute_result"
    }
   ],
   "source": [
    "np.char.center(st,50)"
   ]
  },
  {
   "cell_type": "code",
   "execution_count": 7,
   "id": "1b803360",
   "metadata": {},
   "outputs": [
    {
     "data": {
      "text/plain": [
       "array('.............. Learning Python NumPy..............', dtype='<U50')"
      ]
     },
     "execution_count": 7,
     "metadata": {},
     "output_type": "execute_result"
    }
   ],
   "source": [
    "np.char.center(st,50,fillchar=\".\")"
   ]
  },
  {
   "cell_type": "code",
   "execution_count": 8,
   "id": "637e0cf5",
   "metadata": {},
   "outputs": [
    {
     "data": {
      "text/plain": [
       "array(list(['Learning', 'Python', 'NumPy']), dtype=object)"
      ]
     },
     "execution_count": 8,
     "metadata": {},
     "output_type": "execute_result"
    }
   ],
   "source": [
    "np.char.split(st)"
   ]
  },
  {
   "cell_type": "code",
   "execution_count": 9,
   "id": "aab50ad6",
   "metadata": {},
   "outputs": [
    {
     "data": {
      "text/plain": [
       "array(list(['Shashikant', 'Kumar']), dtype=object)"
      ]
     },
     "execution_count": 9,
     "metadata": {},
     "output_type": "execute_result"
    }
   ],
   "source": [
    "np.char.split(ch)"
   ]
  },
  {
   "cell_type": "code",
   "execution_count": 10,
   "id": "b08b631e",
   "metadata": {},
   "outputs": [
    {
     "data": {
      "text/plain": [
       "array(list(['hello', ' how are', ' you']), dtype=object)"
      ]
     },
     "execution_count": 10,
     "metadata": {},
     "output_type": "execute_result"
    }
   ],
   "source": [
    "np.char.splitlines(\"hello\\n how are\\n you\")"
   ]
  },
  {
   "cell_type": "code",
   "execution_count": 11,
   "id": "f88b2867",
   "metadata": {},
   "outputs": [],
   "source": [
    "st1=\"abc\"\n",
    "st2=\"abc\""
   ]
  },
  {
   "cell_type": "code",
   "execution_count": 12,
   "id": "e75a14d6",
   "metadata": {},
   "outputs": [
    {
     "data": {
      "text/plain": [
       "array(['a:b:c', 'a/b/c'], dtype='<U5')"
      ]
     },
     "execution_count": 12,
     "metadata": {},
     "output_type": "execute_result"
    }
   ],
   "source": [
    "np.char.join([\":\",\"/\"],[st1,st2])"
   ]
  },
  {
   "cell_type": "code",
   "execution_count": 13,
   "id": "0279b7cc",
   "metadata": {},
   "outputs": [
    {
     "data": {
      "text/plain": [
       "array('Shsshiksnt Kumsr', dtype='<U16')"
      ]
     },
     "execution_count": 13,
     "metadata": {},
     "output_type": "execute_result"
    }
   ],
   "source": [
    "np.char.replace(ch,\"a\",\"s\")"
   ]
  },
  {
   "cell_type": "code",
   "execution_count": 14,
   "id": "6ec3333f",
   "metadata": {
    "scrolled": true
   },
   "outputs": [
    {
     "name": "stdout",
     "output_type": "stream",
     "text": [
      "Shashikant Kumar\n"
     ]
    }
   ],
   "source": [
    "print(ch)"
   ]
  },
  {
   "cell_type": "code",
   "execution_count": 15,
   "id": "c087d6fe",
   "metadata": {},
   "outputs": [
    {
     "data": {
      "text/plain": [
       "array(True)"
      ]
     },
     "execution_count": 15,
     "metadata": {},
     "output_type": "execute_result"
    }
   ],
   "source": [
    "np.char.equal(st1,st2)"
   ]
  },
  {
   "cell_type": "code",
   "execution_count": 16,
   "id": "0a3f95a6",
   "metadata": {},
   "outputs": [
    {
     "data": {
      "text/plain": [
       "array(2)"
      ]
     },
     "execution_count": 16,
     "metadata": {},
     "output_type": "execute_result"
    }
   ],
   "source": [
    "np.char.count(ch,\"h\")"
   ]
  },
  {
   "cell_type": "code",
   "execution_count": 17,
   "id": "ad824394",
   "metadata": {},
   "outputs": [
    {
     "data": {
      "text/plain": [
       "array(10)"
      ]
     },
     "execution_count": 17,
     "metadata": {},
     "output_type": "execute_result"
    }
   ],
   "source": [
    "np.char.find(st,\"P\")"
   ]
  }
 ],
 "metadata": {
  "kernelspec": {
   "display_name": "Python 3 (ipykernel)",
   "language": "python",
   "name": "python3"
  },
  "language_info": {
   "codemirror_mode": {
    "name": "ipython",
    "version": 3
   },
   "file_extension": ".py",
   "mimetype": "text/x-python",
   "name": "python",
   "nbconvert_exporter": "python",
   "pygments_lexer": "ipython3",
   "version": "3.10.9"
  }
 },
 "nbformat": 4,
 "nbformat_minor": 5
}
